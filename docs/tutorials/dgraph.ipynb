{
 "cells": [
  {
   "cell_type": "markdown",
   "id": "6a9bfa5c",
   "metadata": {},
   "source": [
    "# Constructing and Accessing Properties in DGraph\n",
    "\n",
    "This tutorial will show you how to construct a `DGraph` object in `tgm` and accessing its properties.\n",
    "\n",
    "The `DGraph` object can be found in `tgm/graph.py`\n",
    "\n",
    "Let's first learn how to make a `DGraph`by defining the graph ourselves. \n",
    "\n",
    "Start by defining the temporal edges, the `edge_index` has shape $[num_edge_events, 2]$\n",
    "\n",
    "The `edge_timestamps` tensor specifies the timestamps associated with each edge, must has shape $[num_edge_events]$\n",
    "\n",
    "The `edge_feats` specifies the features associated with each edge, must has shape $[num_edge_events, D_edge]$ where $D_edge$ is the feature dimension of edge. Edge features are also optional \n",
    "\n"
   ]
  },
  {
   "cell_type": "code",
   "execution_count": 1,
   "id": "a44ae7e2",
   "metadata": {},
   "outputs": [],
   "source": [
    "import torch\n",
    "\n",
    "edge_index = torch.LongTensor([[2, 2], [2, 4], [1, 8]])\n",
    "edge_timestamps = torch.LongTensor([1, 5, 20])\n",
    "edge_feats = torch.rand(3, 5)\n",
    "\n",
    "assert edge_index.shape[0] == edge_timestamps.shape[0] == edge_feats.shape[0]"
   ]
  },
  {
   "cell_type": "markdown",
   "id": "635f62b2-5a3b-4dff-94e5-98d4eb0ac5f3",
   "metadata": {},
   "source": [
    "## Construct `DGraph` from raw tensors\n",
    "\n",
    "To construct a `DGraph` object, we first bundles related tensors into a `DGData` which then constructs the underlying storage of the data. \n",
    "\n",
    "`DGData` can be found at `tgm/data.py` and can be constructed with the `from_raw` function. In TGM, we support both edge events and node events at the same time. The core assumption is that a temporal graph must have edge events and with optional node events as well.\n",
    "\n",
    "The edge events are specified with the following arguments:\n",
    "\n",
    "- `edge_timestamps`: Tensor  # [num_edge_events] (required)\n",
    "\n",
    "- `edge_index`: Tensor  # [num_edge_events, 2] (required)\n",
    "\n",
    "- `edge_feats`: Tensor | None = None  # [num_edge_events, D_edge] (optional)\n",
    "\n",
    "The node events are specified with the following arguments:\n",
    "\n",
    "- `node_timestamps`: Tensor | None = None  # [num_node_events] (optional)\n",
    "\n",
    "- `node_ids`: Tensor | None = None, # [num_node_events] (optional)\n",
    "\n",
    "- `dynamic_node_feats`: Tensor | None = None  # [num_node_events, D_node_dynamic]\n",
    "\n",
    "\n",
    "Lastly, each node can also have a static node feature, i.e. node feature that doesn't change over time\n",
    "\n",
    "- `static_node_feats`: Tensor | None = None  # [num_nodes, D_node_static]\n",
    "\n",
    "In the next part, we will specify our node events\n"
   ]
  },
  {
   "cell_type": "code",
   "execution_count": 2,
   "id": "575b5096",
   "metadata": {},
   "outputs": [
    {
     "name": "stderr",
     "output_type": "stream",
     "text": [
      "/Users/andang/tgm/tgm/data.py:117: UserWarning: received non-chronological events, sorting by time\n",
      "  warnings.warn('received non-chronological events, sorting by time')\n"
     ]
    }
   ],
   "source": [
    "from tgm.data import DGData\n",
    "from tgm.graph import DGraph\n",
    "\n",
    "\n",
    "node_timestamps = torch.LongTensor([1, 5, 10])\n",
    "node_ids = torch.LongTensor([2, 4, 6])\n",
    "dynamic_node_feats = torch.rand([3, 5])\n",
    "\n",
    "assert node_timestamps.shape[0] == node_ids.shape[0] == dynamic_node_feats.shape[0]\n",
    "\n",
    "static_node_feats = torch.rand(9, 11)\n",
    "\n",
    "# initializing our DGData\n",
    "\n",
    "dgdata = DGData.from_raw(\n",
    "    edge_timestamps,\n",
    "    edge_index,\n",
    "    edge_feats,\n",
    "    node_timestamps,\n",
    "    node_ids,\n",
    "    dynamic_node_feats,\n",
    "    static_node_feats,\n",
    ")\n",
    "\n",
    "\n",
    "# initializing our DGraph\n",
    "\n",
    "our_dgraph = DGraph(dgdata)"
   ]
  },
  {
   "cell_type": "markdown",
   "id": "1c9d0789-6caa-4d3d-a122-0a8632e6c1d9",
   "metadata": {},
   "source": [
    "## Construct `DGraph` from Pandas \n",
    "\n",
    "You can also intialize your `DGData` from pandas dataframes. See the example below:"
   ]
  },
  {
   "cell_type": "code",
   "execution_count": 3,
   "id": "016edfe5-1e3f-45f4-9dea-60d026817ff9",
   "metadata": {},
   "outputs": [
    {
     "name": "stderr",
     "output_type": "stream",
     "text": [
      "/Users/andang/tgm/tgm/data.py:117: UserWarning: received non-chronological events, sorting by time\n",
      "  warnings.warn('received non-chronological events, sorting by time')\n"
     ]
    }
   ],
   "source": [
    "import pandas as pd\n",
    "\n",
    "edge_dict = {\n",
    "    'src': [2, 10],\n",
    "    'dst': [3, 20],\n",
    "    't': [1337, 1338],\n",
    "    'edge_feat': [torch.rand(5).tolist(), torch.rand(5).tolist()],\n",
    "}  # edge events\n",
    "\n",
    "node_dict = {\n",
    "    'node': [7, 8],\n",
    "    't': [3, 6],\n",
    "    'node_feat': [torch.rand(5).tolist(), torch.rand(5).tolist()],\n",
    "}  # node events, optional\n",
    "\n",
    "data = DGData.from_pandas(\n",
    "    edge_df=pd.DataFrame(edge_dict),\n",
    "    edge_src_col='src',\n",
    "    edge_dst_col='dst',\n",
    "    edge_time_col='t',\n",
    "    edge_feats_col='edge_feat',\n",
    "    node_df=pd.DataFrame(node_dict),\n",
    "    node_id_col='node',\n",
    "    node_time_col='t',\n",
    "    dynamic_node_feats_col='node_feat',\n",
    ")\n",
    "\n",
    "dgraph = DGraph(dgdata)"
   ]
  },
  {
   "cell_type": "markdown",
   "id": "6b3ae492-29cf-472f-9a29-40c4c4c6dcbd",
   "metadata": {},
   "source": [
    "## Construct `DGraph` from csv files\n",
    "\n",
    "You can also intialize your `DGData` from csv files. See `DGData` `from_csv` function\n"
   ]
  },
  {
   "cell_type": "markdown",
   "id": "c1083466-17eb-47dd-89db-c06901e94e46",
   "metadata": {},
   "source": [
    "## Properties of `DGraph`\n",
    "\n",
    "`DGraph` objects act as a view on the underlying graph data, allowing the user to access various properties as well as slicing and other operations. Additional properties are seen in the `tgm/graph.py`"
   ]
  },
  {
   "cell_type": "code",
   "execution_count": 4,
   "id": "eb039e94-8eba-40cf-9de3-2b2352bde31c",
   "metadata": {},
   "outputs": [
    {
     "name": "stdout",
     "output_type": "stream",
     "text": [
      "=== Graph Properties ===\n",
      "start time : 1\n",
      "end time : 20\n",
      "number of nodes : 9\n",
      "number of edge events : 3\n",
      "number of timestamps : 4\n",
      "number of edge and node events : 6\n",
      "edge feature dim : 5\n",
      "static node feature dim : 11\n",
      "dynamic node feature dim : 5\n",
      "======================\n"
     ]
    }
   ],
   "source": [
    "print('=== Graph Properties ===')\n",
    "print(f'start time : {our_dgraph.start_time}')\n",
    "print(f'end time : {our_dgraph.end_time}')\n",
    "print(f'number of nodes : {our_dgraph.num_nodes}')\n",
    "print(f'number of edge events : {our_dgraph.num_edges}')\n",
    "print(f'number of timestamps : {our_dgraph.num_timestamps}')\n",
    "print(f'number of edge and node events : {our_dgraph.num_events}')\n",
    "print(f'edge feature dim : {our_dgraph.edge_feats_dim}')\n",
    "print(f'static node feature dim : {our_dgraph.static_node_feats_dim}')\n",
    "print(f'dynamic node feature dim : {our_dgraph.dynamic_node_feats_dim}')\n",
    "print('======================')"
   ]
  },
  {
   "cell_type": "markdown",
   "id": "515462a4-db9e-42f8-9cd8-34bd5515a86b",
   "metadata": {},
   "source": [
    "## Construct `DGraph` from TGB Datasets\n",
    "\n",
    "We support the construction of `DGraph` from TGB link property prediction and node property prediction datasets. Currently, TKG and THG datasets from TGB is not supported. specify the time granularity of the dataset with `TimeDeltaDG`. Note that time granularity related functions are in alpha, and will be still under change\n",
    "\n",
    "`r` means ordered time granularity which means the underlining timestamps tell us the ordering of edges and we do not use it for time conversion. (other time granularities will allow)"
   ]
  },
  {
   "cell_type": "code",
   "execution_count": 5,
   "id": "dff02291-64b7-4a27-b690-75b346baa59c",
   "metadata": {},
   "outputs": [
    {
     "name": "stdout",
     "output_type": "stream",
     "text": [
      "raw file found, skipping download\n",
      "Dataset directory is  /Users/andang/tgm/my_venv/lib/python3.10/site-packages/tgb/datasets/tgbl_wiki\n",
      "loading processed file\n"
     ]
    }
   ],
   "source": [
    "from tgm.timedelta import TimeDeltaDG\n",
    "\n",
    "train_dg = DGraph('tgbl-wiki', time_delta=TimeDeltaDG('r'), split='train')"
   ]
  },
  {
   "cell_type": "markdown",
   "id": "61e9b41e-d895-489e-af9a-c3dae257c16b",
   "metadata": {},
   "source": [
    "## `DGDataLoader` and `DGHook`\n",
    "\n",
    "In TGM, we integrate data loading related operations such as negative sampling and neighbor sampling as hooks to the dataloader. For advanced users, you can also create your own custom hooks. \n"
   ]
  },
  {
   "cell_type": "code",
   "execution_count": 6,
   "id": "c09630cc-71a5-4d19-b5f9-8a4e1df1b196",
   "metadata": {},
   "outputs": [],
   "source": [
    "from tgm.loader import DGDataLoader\n",
    "from tgm.hooks import (\n",
    "    NegativeEdgeSamplerHook,\n",
    "    RecencyNeighborHook,\n",
    ")\n",
    "\n",
    "neg_hook = NegativeEdgeSamplerHook(low=0, high=train_dg.num_nodes)\n",
    "\n",
    "n_nbrs = [20]  # sample 20 1-hop neighbors for each node\n",
    "nbr_hook = RecencyNeighborHook(num_nbrs=n_nbrs, num_nodes=train_dg.num_nodes)\n",
    "\n",
    "train_loader = DGDataLoader(\n",
    "    train_dg, hook=[neg_hook, nbr_hook], batch_size=200\n",
    ")  # compose hooks"
   ]
  },
  {
   "cell_type": "markdown",
   "id": "d7247022-0ccd-4fd0-a877-e6bd11a840fa",
   "metadata": {},
   "source": [
    "## `DGDataLoader` materializes each batch into `DGBatch`\n",
    "\n",
    "For simplicity, we will use an iterator on the loader, you will use `for batch in train_loader:` loop in practice."
   ]
  },
  {
   "cell_type": "code",
   "execution_count": 7,
   "id": "c144b0ad-f176-4fd6-bc79-126efecc42ed",
   "metadata": {},
   "outputs": [
    {
     "name": "stdout",
     "output_type": "stream",
     "text": [
      "=== Batch of 200 edges ===\n",
      "source nodes shape : torch.Size([200])\n",
      "destination nodes shape : torch.Size([200])\n",
      "timestamps shape : torch.Size([200])\n",
      "negative destinations shape : torch.Size([200])\n",
      "one hop node neighbors shape: torch.Size([600, 20])\n",
      "======================\n"
     ]
    }
   ],
   "source": [
    "iter_loader = iter(train_loader)\n",
    "batch = next(iter_loader)\n",
    "\n",
    "src = batch.src\n",
    "dst = batch.dst\n",
    "time = batch.time\n",
    "neg = batch.neg\n",
    "nbr_nids = batch.nbr_nids[1]\n",
    "\n",
    "print('=== Batch of 200 edges ===')\n",
    "print(f'source nodes shape : {src.shape}')\n",
    "print(f'destination nodes shape : {dst.shape}')\n",
    "print(f'timestamps shape : {time.shape}')\n",
    "print(f'negative destinations shape : {neg.shape}')\n",
    "print(f'one hop node neighbors shape: {nbr_nids.shape}')\n",
    "print('======================')"
   ]
  },
  {
   "cell_type": "code",
   "execution_count": null,
   "id": "6a0e152f-7ae3-40d4-9bbb-48b6f8c24afd",
   "metadata": {},
   "outputs": [],
   "source": []
  }
 ],
 "metadata": {
  "kernelspec": {
   "display_name": "Python 3 (ipykernel)",
   "language": "python",
   "name": "python3"
  },
  "language_info": {
   "codemirror_mode": {
    "name": "ipython",
    "version": 3
   },
   "file_extension": ".py",
   "mimetype": "text/x-python",
   "name": "python",
   "nbconvert_exporter": "python",
   "pygments_lexer": "ipython3",
   "version": "3.10.17"
  }
 },
 "nbformat": 4,
 "nbformat_minor": 5
}
